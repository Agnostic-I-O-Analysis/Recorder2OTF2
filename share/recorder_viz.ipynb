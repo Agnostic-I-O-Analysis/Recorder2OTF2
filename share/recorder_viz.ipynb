{
 "cells": [
  {
   "cell_type": "code",
   "execution_count": 1,
   "id": "1d589203",
   "metadata": {},
   "outputs": [],
   "source": [
    "import recorder_viz"
   ]
  },
  {
   "cell_type": "code",
   "execution_count": 2,
   "id": "9b9d0230",
   "metadata": {},
   "outputs": [
    {
     "name": "stdout",
     "output_type": "stream",
     "text": [
      "/home/soeste/projects/io-tools-evaluation\r\n"
     ]
    }
   ],
   "source": [
    "!pwd"
   ]
  },
  {
   "cell_type": "code",
   "execution_count": 3,
   "id": "ebaaf8b6",
   "metadata": {},
   "outputs": [],
   "source": [
    "from recorder_viz import RecorderReader"
   ]
  },
  {
   "cell_type": "code",
   "execution_count": 4,
   "id": "a50e1cce",
   "metadata": {},
   "outputs": [
    {
     "name": "stdout",
     "output_type": "stream",
     "text": [
      "ior-easy-read  ior-easy-write  ior-hard-read  ior-hard-write\r\n"
     ]
    }
   ],
   "source": [
    "!ls recorder-traces/recorder-20220420/"
   ]
  },
  {
   "cell_type": "markdown",
   "id": "54a3294c",
   "metadata": {},
   "source": [
    "## Visualize ior-easy-write "
   ]
  },
  {
   "cell_type": "code",
   "execution_count": 5,
   "id": "eb3c3019",
   "metadata": {},
   "outputs": [],
   "source": [
    "#reader = RecorderReader(\"recorder-traces/recorder-20220420/taurusi6217.taurus.hrsk.tu-dresden.de-(null)-ior-15632-144749.714\")"
   ]
  },
  {
   "cell_type": "code",
   "execution_count": 6,
   "id": "185dd2dc",
   "metadata": {},
   "outputs": [],
   "source": [
    "# This does not work in ipynb for some reason, the stacktrace looks like it is a problem with bokeh but not sure, \n",
    "# just run it from a script works well.\n",
    "\n",
    "#recorder_viz.generate_report(reader, \"ior-easy-write.html\")"
   ]
  },
  {
   "cell_type": "markdown",
   "id": "d3b6a1e0",
   "metadata": {},
   "source": [
    "## Visualize ior-easy-read"
   ]
  },
  {
   "cell_type": "code",
   "execution_count": 7,
   "id": "c018226a",
   "metadata": {},
   "outputs": [
    {
     "name": "stdout",
     "output_type": "stream",
     "text": [
      "Rank: 0, intercepted calls: 227901, accessed files: 3\n",
      "Rank: 1, intercepted calls: 227889, accessed files: 1\n",
      "Rank: 2, intercepted calls: 227893, accessed files: 3\n",
      "Rank: 3, intercepted calls: 227889, accessed files: 1\n",
      "Rank: 4, intercepted calls: 227900, accessed files: 3\n",
      "Rank: 5, intercepted calls: 227898, accessed files: 2\n",
      "Rank: 6, intercepted calls: 227900, accessed files: 3\n",
      "Rank: 7, intercepted calls: 227898, accessed files: 2\n",
      "Rank: 8, intercepted calls: 227902, accessed files: 2\n",
      "Rank: 9, intercepted calls: 227900, accessed files: 2\n",
      "Rank: 10, intercepted calls: 227902, accessed files: 3\n",
      "Rank: 11, intercepted calls: 227898, accessed files: 2\n",
      "Rank: 12, intercepted calls: 227900, accessed files: 3\n",
      "Rank: 13, intercepted calls: 227898, accessed files: 2\n",
      "Rank: 14, intercepted calls: 227900, accessed files: 3\n",
      "Rank: 15, intercepted calls: 227898, accessed files: 2\n",
      "Rank: 16, intercepted calls: 227893, accessed files: 2\n",
      "Rank: 17, intercepted calls: 227893, accessed files: 3\n",
      "Rank: 18, intercepted calls: 227891, accessed files: 2\n",
      "Rank: 19, intercepted calls: 227893, accessed files: 3\n",
      "Rank: 20, intercepted calls: 227891, accessed files: 2\n",
      "Rank: 21, intercepted calls: 227891, accessed files: 2\n",
      "Rank: 22, intercepted calls: 227893, accessed files: 3\n",
      "Rank: 23, intercepted calls: 227898, accessed files: 2\n",
      "Rank: 24, intercepted calls: 227898, accessed files: 3\n",
      "Rank: 25, intercepted calls: 227891, accessed files: 2\n",
      "Rank: 26, intercepted calls: 227889, accessed files: 1\n",
      "Rank: 27, intercepted calls: 227891, accessed files: 2\n",
      "Rank: 28, intercepted calls: 227889, accessed files: 1\n",
      "Rank: 29, intercepted calls: 227891, accessed files: 2\n",
      "Rank: 30, intercepted calls: 227889, accessed files: 1\n",
      "Rank: 31, intercepted calls: 227891, accessed files: 2\n"
     ]
    }
   ],
   "source": [
    "reader = RecorderReader(\"recorder-traces/recorder-20220420/ior-easy-read\")"
   ]
  },
  {
   "cell_type": "code",
   "execution_count": 8,
   "id": "4053db22",
   "metadata": {},
   "outputs": [],
   "source": [
    "# Same problem as above.\n",
    "\n",
    "# recorder_viz.generate_report(reader, \"try_from_nb-ior-easy-read.html\")"
   ]
  },
  {
   "cell_type": "markdown",
   "id": "b6f9fc48",
   "metadata": {},
   "source": [
    "## Explore Trace Records"
   ]
  },
  {
   "cell_type": "markdown",
   "id": "3aa6fb27",
   "metadata": {},
   "source": [
    "Explore `RecorderReader.GM` which is the global metadata record."
   ]
  },
  {
   "cell_type": "code",
   "execution_count": 9,
   "id": "adf9008b",
   "metadata": {},
   "outputs": [
    {
     "data": {
      "text/plain": [
       "1650459756.871902"
      ]
     },
     "execution_count": 9,
     "metadata": {},
     "output_type": "execute_result"
    }
   ],
   "source": [
    "reader.GM.start_ts"
   ]
  },
  {
   "cell_type": "code",
   "execution_count": 10,
   "id": "b31c3deb",
   "metadata": {},
   "outputs": [
    {
     "data": {
      "text/plain": [
       "1e-07"
      ]
     },
     "execution_count": 10,
     "metadata": {},
     "output_type": "execute_result"
    }
   ],
   "source": [
    "reader.GM.time_resolution"
   ]
  },
  {
   "cell_type": "code",
   "execution_count": 11,
   "id": "ff703566",
   "metadata": {},
   "outputs": [
    {
     "data": {
      "text/plain": [
       "32"
      ]
     },
     "execution_count": 11,
     "metadata": {},
     "output_type": "execute_result"
    }
   ],
   "source": [
    "reader.GM.total_ranks"
   ]
  },
  {
   "cell_type": "code",
   "execution_count": 12,
   "id": "f144a622",
   "metadata": {},
   "outputs": [
    {
     "data": {
      "text/plain": [
       "0"
      ]
     },
     "execution_count": 12,
     "metadata": {},
     "output_type": "execute_result"
    }
   ],
   "source": [
    "reader.GM.ts_compression_algo"
   ]
  },
  {
   "cell_type": "code",
   "execution_count": 13,
   "id": "68bf737b",
   "metadata": {},
   "outputs": [
    {
     "data": {
      "text/plain": [
       "1024"
      ]
     },
     "execution_count": 13,
     "metadata": {},
     "output_type": "execute_result"
    }
   ],
   "source": [
    "reader.GM.ts_buffer_elements"
   ]
  },
  {
   "cell_type": "markdown",
   "id": "d9e96c02",
   "metadata": {},
   "source": [
    "Explorte `RecorderReader.LMs` which is the local metadata records, one for each rank."
   ]
  },
  {
   "cell_type": "code",
   "execution_count": 14,
   "id": "64517a02",
   "metadata": {},
   "outputs": [
    {
     "data": {
      "text/plain": [
       "32"
      ]
     },
     "execution_count": 14,
     "metadata": {},
     "output_type": "execute_result"
    }
   ],
   "source": [
    "len(reader.LMs)"
   ]
  },
  {
   "cell_type": "markdown",
   "id": "1d6e9fbc",
   "metadata": {},
   "source": [
    "Lets look into the local metadata record for rank 1."
   ]
  },
  {
   "cell_type": "code",
   "execution_count": 15,
   "id": "e95c4f82",
   "metadata": {},
   "outputs": [
    {
     "name": "stdout",
     "output_type": "stream",
     "text": [
      "filemap: {'/beegfs/.global0/ws/soeste-io-recorder/results/ior-easy.stonewall', '/beegfs/.global0/ws/soeste-io-recorder/datafiles/ior-easy/ior_file_easy.00000008', '/sys/devices/system/node/node0/meminfo'}\n",
      "\n",
      "num files: 3\n",
      "\n",
      "function count: [0, 0, 1, 0, 1, 0, 113923, 113923, 0, 0, 0, 0, 0, 0, 0, 0, 0, 0, 2, 2, 0, 0, 0, 0, 0, 0, 8, 0, 0, 0, 0, 0, 0, 0, 0, 0, 0, 0, 0, 0, 0, 0, 0, 0, 0, 0, 0, 0, 0, 0, 0, 0, 0, 0, 0, 0, 0, 0, 0, 0, 0, 0, 0, 0, 0, 0, 0, 0, 0, 0, 0, 0, 0, 0, 0, 0, 0, 0, 0, 0, 0, 0, 0, 0, 0, 0, 0, 0, 0, 0, 0, 0, 0, 0, 0, 0, 0, 0, 0, 0, 0, 0, 0, 0, 0, 0, 3, 3, 0, 0, 0, 6, 8, 1, 0, 0, 0, 0, 0, 0, 10, 4, 0, 0, 0, 0, 0, 0, 0, 0, 0, 0, 0, 0, 0, 0, 0, 0, 0, 0, 0, 0, 0, 0, 0, 0, 0, 0, 0, 0, 0, 0, 1, 0, 0, 0, 0, 0, 0, 0, 0, 0, 0, 0, 0, 3, 0, 2, 0, 0, 0, 0, 0, 0, 0, 0, 0, 0, 0, 0, 0, 0, 0, 0, 0, 0, 0, 0, 0, 0, 0, 0, 0, 0, 0, 0, 0, 0, 0, 0, 0, 0, 0, 0, 0, 0, 0, 0, 0, 0, 0, 0, 0, 0, 0, 0, 0, 0, 0, 0, 0, 0, 0, 0, 0, 0, 0, 0, 0, 0, 0, 0, 0, 0, 0, 0, 0, 0, 0, 0, 0, 0, 0, 0, 0, 0, 0, 0, 0, 0, 0, 0, 0, 0, 0, 0]\n",
      "\n",
      "total records: 227901\n"
     ]
    }
   ],
   "source": [
    "rank1_lm = reader.LMs[0]\n",
    "print(f\"filemap: {rank1_lm.filemap}\\n\\nnum files: {rank1_lm.num_files}\\n\\nfunction count: {rank1_lm.function_count}\\n\\ntotal records: {rank1_lm.total_records}\")"
   ]
  },
  {
   "cell_type": "markdown",
   "id": "f013cfbc",
   "metadata": {},
   "source": [
    "Readers function list"
   ]
  },
  {
   "cell_type": "code",
   "execution_count": 16,
   "id": "87446dfa",
   "metadata": {},
   "outputs": [
    {
     "data": {
      "text/plain": [
       "['creat',\n",
       " 'creat64',\n",
       " 'open',\n",
       " 'open64',\n",
       " 'close',\n",
       " 'write',\n",
       " 'read',\n",
       " 'lseek',\n",
       " 'lseek64',\n",
       " 'pread',\n",
       " 'pread64',\n",
       " 'pwrite',\n",
       " 'pwrite64',\n",
       " 'readv',\n",
       " 'writev',\n",
       " 'mmap',\n",
       " 'mmap64',\n",
       " 'fopen',\n",
       " 'fopen64',\n",
       " 'fclose',\n",
       " 'fwrite',\n",
       " 'fread',\n",
       " 'ftell',\n",
       " 'fseek',\n",
       " 'fsync',\n",
       " 'fdatasync',\n",
       " '__xstat',\n",
       " '__xstat64',\n",
       " '__lxstat',\n",
       " '__lxstat64',\n",
       " '__fxstat',\n",
       " '__fxstat64',\n",
       " 'getcwd',\n",
       " 'mkdir',\n",
       " 'rmdir',\n",
       " 'chdir',\n",
       " 'link',\n",
       " 'linkat',\n",
       " 'unlink',\n",
       " 'symlink',\n",
       " 'symlinkat',\n",
       " 'readlink',\n",
       " 'readlinkat',\n",
       " 'rename',\n",
       " 'chmod',\n",
       " 'chown',\n",
       " 'lchown',\n",
       " 'utime',\n",
       " 'opendir',\n",
       " 'readdir',\n",
       " 'closedir',\n",
       " 'rewinddir',\n",
       " 'mknod',\n",
       " 'mknodat',\n",
       " 'fcntl',\n",
       " 'dup',\n",
       " 'dup2',\n",
       " 'pipe',\n",
       " 'mkfifo',\n",
       " 'umask',\n",
       " 'fdopen',\n",
       " 'fileno',\n",
       " 'access',\n",
       " 'faccessat',\n",
       " 'tmpfile',\n",
       " 'remove',\n",
       " 'truncate',\n",
       " 'ftruncate',\n",
       " 'vfprintf',\n",
       " 'msync',\n",
       " 'fseeko',\n",
       " 'ftello',\n",
       " 'MPI_File_close',\n",
       " 'MPI_File_set_size',\n",
       " 'MPI_File_iread_at',\n",
       " 'MPI_File_iread',\n",
       " 'MPI_File_iread_shared',\n",
       " 'MPI_File_iwrite_at',\n",
       " 'MPI_File_iwrite',\n",
       " 'MPI_File_iwrite_shared',\n",
       " 'MPI_File_open',\n",
       " 'MPI_File_read_all_begin',\n",
       " 'MPI_File_read_all',\n",
       " 'MPI_File_read_at_all',\n",
       " 'MPI_File_read_at_all_begin',\n",
       " 'MPI_File_read_at',\n",
       " 'MPI_File_read',\n",
       " 'MPI_File_read_ordered_begin',\n",
       " 'MPI_File_read_ordered',\n",
       " 'MPI_File_read_shared',\n",
       " 'MPI_File_set_view',\n",
       " 'MPI_File_sync',\n",
       " 'MPI_File_write_all_begin',\n",
       " 'MPI_File_write_all',\n",
       " 'MPI_File_write_at_all_begin',\n",
       " 'MPI_File_write_at_all',\n",
       " 'MPI_File_write_at',\n",
       " 'MPI_File_write',\n",
       " 'MPI_File_write_ordered_begin',\n",
       " 'MPI_File_write_ordered',\n",
       " 'MPI_File_write_shared',\n",
       " 'MPI_Finalize',\n",
       " 'MPI_Finalized',\n",
       " 'MPI_Init',\n",
       " 'MPI_Init_thread',\n",
       " 'MPI_Wtime',\n",
       " 'MPI_Comm_rank',\n",
       " 'MPI_Comm_size',\n",
       " 'MPI_Get_processor_name',\n",
       " 'MPI_Get_processor_name',\n",
       " 'MPI_Comm_set_errhandler',\n",
       " 'MPI_Barrier',\n",
       " 'MPI_Bcast',\n",
       " 'MPI_Gather',\n",
       " 'MPI_Gatherv',\n",
       " 'MPI_Scatter',\n",
       " 'MPI_Scatterv',\n",
       " 'MPI_Allgather',\n",
       " 'MPI_Allgatherv',\n",
       " 'MPI_Alltoall',\n",
       " 'MPI_Reduce',\n",
       " 'MPI_Allreduce',\n",
       " 'MPI_Reduce_scatter',\n",
       " 'MPI_Scan',\n",
       " 'MPI_Type_commit',\n",
       " 'MPI_Type_contiguous',\n",
       " 'MPI_Type_extent',\n",
       " 'MPI_Type_free',\n",
       " 'MPI_Type_hindexed',\n",
       " 'MPI_Op_create',\n",
       " 'MPI_Op_free',\n",
       " 'MPI_Type_get_envelope',\n",
       " 'MPI_Type_size',\n",
       " 'MPI_Cart_rank',\n",
       " 'MPI_Cart_create',\n",
       " 'MPI_Cart_get',\n",
       " 'MPI_Cart_shift',\n",
       " 'MPI_Wait',\n",
       " 'MPI_Send',\n",
       " 'MPI_Recv',\n",
       " 'MPI_Sendrecv',\n",
       " 'MPI_Isend',\n",
       " 'MPI_Irecv',\n",
       " 'MPI_Info_create',\n",
       " 'MPI_Info_set',\n",
       " 'MPI_Info_get',\n",
       " 'MPI_Waitall',\n",
       " 'MPI_Waitsome',\n",
       " 'MPI_Waitany',\n",
       " 'MPI_Ssend',\n",
       " 'MPI_Comm_split',\n",
       " 'MPI_Comm_dup',\n",
       " 'MPI_Comm_create',\n",
       " 'MPI_File_seek',\n",
       " 'MPI_File_seek_shared',\n",
       " 'MPI_File_get_size',\n",
       " 'MPI_Ibcast',\n",
       " 'MPI_Test',\n",
       " 'MPI_Testall',\n",
       " 'MPI_Testsome',\n",
       " 'MPI_Testany',\n",
       " 'MPI_Ireduce',\n",
       " 'MPI_Iscatter',\n",
       " 'MPI_Igather',\n",
       " 'MPI_Ialltoall',\n",
       " 'MPI_Comm_free',\n",
       " 'MPI_Cart_sub',\n",
       " 'MPI_Comm_split_type',\n",
       " 'H5Fcreate',\n",
       " 'H5Fopen',\n",
       " 'H5Fclose',\n",
       " 'H5Fflush',\n",
       " 'H5Gclose',\n",
       " 'H5Gcreate1',\n",
       " 'H5Gcreate2',\n",
       " 'H5Gget_objinfo',\n",
       " 'H5Giterate',\n",
       " 'H5Gopen1',\n",
       " 'H5Gopen2',\n",
       " 'H5Dclose',\n",
       " 'H5Dcreate1',\n",
       " 'H5Dcreate2',\n",
       " 'H5Dget_create_plist',\n",
       " 'H5Dget_space',\n",
       " 'H5Dget_type',\n",
       " 'H5Dopen1',\n",
       " 'H5Dopen2',\n",
       " 'H5Dread',\n",
       " 'H5Dwrite',\n",
       " 'H5Dset_extent',\n",
       " 'H5Sclose',\n",
       " 'H5Screate',\n",
       " 'H5Screate_simple',\n",
       " 'H5Sget_select_npoints',\n",
       " 'H5Sget_simple_extent_dims',\n",
       " 'H5Sget_simple_extent_npoints',\n",
       " 'H5Sselect_elements',\n",
       " 'H5Sselect_hyperslab',\n",
       " 'H5Sselect_none',\n",
       " 'H5Tclose',\n",
       " 'H5Tcopy',\n",
       " 'H5Tget_class',\n",
       " 'H5Tget_size',\n",
       " 'H5Tset_size',\n",
       " 'H5Tcreate',\n",
       " 'H5Tinsert',\n",
       " 'H5Aclose',\n",
       " 'H5Acreate1',\n",
       " 'H5Acreate2',\n",
       " 'H5Aget_name',\n",
       " 'H5Aget_num_attrs',\n",
       " 'H5Aget_space',\n",
       " 'H5Aget_type',\n",
       " 'H5Aopen',\n",
       " 'H5Aopen_idx',\n",
       " 'H5Aopen_name',\n",
       " 'H5Aread',\n",
       " 'H5Awrite',\n",
       " 'H5Pclose',\n",
       " 'H5Pcreate',\n",
       " 'H5Pget_chunk',\n",
       " 'H5Pget_mdc_config',\n",
       " 'H5Pset_alignment',\n",
       " 'H5Pset_chunk',\n",
       " 'H5Pset_dxpl_mpio',\n",
       " 'H5Pset_fapl_core',\n",
       " 'H5Pset_fapl_mpio',\n",
       " 'H5Pset_fapl_mpiposix',\n",
       " 'H5Pset_istore_k',\n",
       " 'H5Pset_mdc_config',\n",
       " 'H5Pset_meta_block_size',\n",
       " 'H5Lexists',\n",
       " 'H5Lget_val',\n",
       " 'H5Literate',\n",
       " 'H5Oclose',\n",
       " 'H5Oget_info',\n",
       " 'H5Oget_info_by_name',\n",
       " 'H5Oopen',\n",
       " 'H5Pset_coll_metadata_write',\n",
       " 'H5Pget_coll_metadata_write',\n",
       " 'H5Pset_all_coll_metadata_ops',\n",
       " 'H5Pget_all_coll_metadata_ops']"
      ]
     },
     "execution_count": 16,
     "metadata": {},
     "output_type": "execute_result"
    }
   ],
   "source": [
    "reader.funcs"
   ]
  },
  {
   "cell_type": "markdown",
   "id": "0c971d04",
   "metadata": {},
   "source": [
    "## Access records"
   ]
  },
  {
   "cell_type": "code",
   "execution_count": 17,
   "id": "c3859b8a",
   "metadata": {},
   "outputs": [
    {
     "data": {
      "text/plain": [
       "<recorder_viz.creader_wrapper.LP_LP_PyRecord at 0x7f4e070d11c0>"
      ]
     },
     "execution_count": 17,
     "metadata": {},
     "output_type": "execute_result"
    }
   ],
   "source": [
    "reader.records"
   ]
  },
  {
   "cell_type": "code",
   "execution_count": 18,
   "id": "42f369ab",
   "metadata": {},
   "outputs": [
    {
     "data": {
      "text/plain": [
       "<recorder_viz.creader_wrapper.LP_PyRecord at 0x7f4e441525c0>"
      ]
     },
     "execution_count": 18,
     "metadata": {},
     "output_type": "execute_result"
    }
   ],
   "source": [
    "reader.records[0]"
   ]
  },
  {
   "cell_type": "markdown",
   "id": "77691512",
   "metadata": {},
   "source": [
    "### Access records of rank 0"
   ]
  },
  {
   "cell_type": "code",
   "execution_count": 19,
   "id": "d4419eee",
   "metadata": {},
   "outputs": [],
   "source": [
    "#for record in reader.records[0]:\n",
    "#    print(f\"Record: {record}\")"
   ]
  },
  {
   "cell_type": "markdown",
   "id": "87b15d49",
   "metadata": {},
   "source": [
    "Try to access the first record of the first rank."
   ]
  },
  {
   "cell_type": "code",
   "execution_count": 20,
   "id": "dab2cd4c",
   "metadata": {},
   "outputs": [
    {
     "data": {
      "text/plain": [
       "<recorder_viz.creader_wrapper.PyRecord at 0x7f4e070d14c0>"
      ]
     },
     "execution_count": 20,
     "metadata": {},
     "output_type": "execute_result"
    }
   ],
   "source": [
    "rec = reader.records[0][0]\n",
    "rec"
   ]
  },
  {
   "cell_type": "code",
   "execution_count": 21,
   "id": "54d34d9c",
   "metadata": {},
   "outputs": [
    {
     "data": {
      "text/plain": [
       "2"
      ]
     },
     "execution_count": 21,
     "metadata": {},
     "output_type": "execute_result"
    }
   ],
   "source": [
    "rec.arg_count"
   ]
  },
  {
   "cell_type": "code",
   "execution_count": 22,
   "id": "dc54e88b",
   "metadata": {},
   "outputs": [
    {
     "name": "stdout",
     "output_type": "stream",
     "text": [
      "arg: b'MPI_COMM_WORLD'\n",
      "arg: b'0'\n"
     ]
    }
   ],
   "source": [
    "for i in range(rec.arg_count):\n",
    "    print(f\"arg: {rec.args[i]}\")"
   ]
  },
  {
   "cell_type": "code",
   "execution_count": 23,
   "id": "dff45a75",
   "metadata": {},
   "outputs": [
    {
     "name": "stdout",
     "output_type": "stream",
     "text": [
      "function: MPI_Comm_rank called: 3 times\n"
     ]
    }
   ],
   "source": [
    "lm = reader.LMs[0]\n",
    "func = reader.funcs[rec.func_id]\n",
    "fcount = lm.function_count[rec.func_id]\n",
    "print(f\"function: {func} called: {fcount} times\")"
   ]
  },
  {
   "cell_type": "markdown",
   "id": "99cabb1f",
   "metadata": {},
   "source": [
    "Print first 10 functions called on rank 0"
   ]
  },
  {
   "cell_type": "code",
   "execution_count": 28,
   "id": "eda19a73",
   "metadata": {},
   "outputs": [
    {
     "name": "stdout",
     "output_type": "stream",
     "text": [
      "func: MPI_Comm_rank ['MPI_COMM_WORLD', '0']\n",
      "func: MPI_Comm_split_type ['MPI_COMM_WORLD', '0', '0', '%p', '0-0', '0']\n",
      "func: MPI_Comm_rank ['0-0', '0']\n",
      "func: MPI_Allreduce ['%p', '%p', '1', 'MPI_INT', '4328480', 'MPI_COMM_WORLD']\n",
      "func: MPI_Comm_free ['0-0']\n",
      "func: MPI_Comm_size ['MPI_COMM_WORLD', '32']\n",
      "func: MPI_Comm_split_type ['MPI_COMM_WORLD', '0', '0', '%p', '0-1', '0']\n",
      "func: MPI_Comm_rank ['0-1', '0']\n",
      "func: MPI_Comm_size ['0-1', '8']\n",
      "func: MPI_Allreduce ['%p', '%p', '1', 'MPI_INT', '4328480', 'MPI_COMM_WORLD']\n",
      "func: MPI_Comm_free ['0-1']\n",
      "func: MPI_Bcast ['%p', '4', 'MPI_BYTE', '0', 'MPI_COMM_WORLD']\n",
      "func: MPI_Comm_size ['MPI_COMM_WORLD', '32']\n",
      "func: MPI_Bcast ['%p', '4096', 'MPI_CHAR', '0', 'MPI_COMM_WORLD']\n",
      "func: __xstat ['1', '/proc/self/ns/ipc', '%p']\n",
      "func: __xstat ['1', '/proc/self/ns/ipc', '%p']\n",
      "func: __xstat ['1', '/proc/self/ns/ipc', '%p']\n",
      "func: __xstat ['1', '/proc/self/ns/ipc', '%p']\n",
      "func: __xstat ['1', '/proc/self/ns/ipc', '%p']\n",
      "func: __xstat ['1', '/proc/self/ns/ipc', '%p']\n",
      "func: __xstat ['1', '/proc/self/ns/ipc', '%p']\n",
      "func: fopen64 ['/sys/devices/system/node/node0/meminfo', 'r']\n",
      "func: fclose ['/sys/devices/system/node/node0/meminfo']\n",
      "func: MPI_Gather ['%p', '1', 'MPI_INT', '%p', '1', 'MPI_INT', '0', 'MPI_COMM_WORLD']\n",
      "func: MPI_Bcast ['%p', '1', 'MPI_INT', '0', 'MPI_COMM_WORLD']\n",
      "func: MPI_Barrier ['MPI_COMM_WORLD']\n",
      "func: MPI_Reduce ['%p', '%p', '1', 'MPI_DOUBLE', '4324384', '0', 'MPI_COMM_WORLD']\n",
      "func: MPI_Reduce ['%p', '%p', '1', 'MPI_DOUBLE', '4326432', '0', 'MPI_COMM_WORLD']\n",
      "func: MPI_Bcast ['%p', '1', 'MPI_DOUBLE', '0', 'MPI_COMM_WORLD']\n",
      "func: MPI_Bcast ['%p', '1', 'MPI_INT', '0', 'MPI_COMM_WORLD']\n",
      "func: MPI_Comm_create ['MPI_COMM_WORLD', '50115888', '0-2', '0']\n",
      "func: MPI_Bcast ['%p', '1', 'MPI_UNSIGNED', '0', '0-2']\n",
      "func: fopen64 ['/beegfs/.global0/ws/soeste-io-recorder/results/ior-easy.stonewall', 'r']\n",
      "func: fclose ['/beegfs/.global0/ws/soeste-io-recorder/results/ior-easy.stonewall']\n",
      "func: MPI_Bcast ['%p', '1', 'MPI_LONG_LONG_INT', '0', 'MPI_COMM_WORLD']\n",
      "func: MPI_Barrier ['0-2']\n",
      "func: open ['/beegfs/.global0/ws/soeste-io-recorder/datafiles/ior-easy/ior_file_easy.00000008', '2']\n",
      "func: MPI_Barrier ['0-2']\n",
      "func: lseek ['/beegfs/.global0/ws/soeste-io-recorder/datafiles/ior-easy/ior_file_easy.00000008', '0', '0']\n",
      "func: read ['/beegfs/.global0/ws/soeste-io-recorder/datafiles/ior-easy/ior_file_easy.00000008', '%p', '2097152']\n",
      "func: lseek ['/beegfs/.global0/ws/soeste-io-recorder/datafiles/ior-easy/ior_file_easy.00000008', '2097152', '0']\n",
      "func: read ['/beegfs/.global0/ws/soeste-io-recorder/datafiles/ior-easy/ior_file_easy.00000008', '%p', '2097152']\n",
      "func: lseek ['/beegfs/.global0/ws/soeste-io-recorder/datafiles/ior-easy/ior_file_easy.00000008', '4194304', '0']\n",
      "func: read ['/beegfs/.global0/ws/soeste-io-recorder/datafiles/ior-easy/ior_file_easy.00000008', '%p', '2097152']\n",
      "func: lseek ['/beegfs/.global0/ws/soeste-io-recorder/datafiles/ior-easy/ior_file_easy.00000008', '6291456', '0']\n",
      "func: read ['/beegfs/.global0/ws/soeste-io-recorder/datafiles/ior-easy/ior_file_easy.00000008', '%p', '2097152']\n",
      "func: lseek ['/beegfs/.global0/ws/soeste-io-recorder/datafiles/ior-easy/ior_file_easy.00000008', '8388608', '0']\n",
      "func: read ['/beegfs/.global0/ws/soeste-io-recorder/datafiles/ior-easy/ior_file_easy.00000008', '%p', '2097152']\n",
      "func: lseek ['/beegfs/.global0/ws/soeste-io-recorder/datafiles/ior-easy/ior_file_easy.00000008', '10485760', '0']\n",
      "func: read ['/beegfs/.global0/ws/soeste-io-recorder/datafiles/ior-easy/ior_file_easy.00000008', '%p', '2097152']\n",
      "func: lseek ['/beegfs/.global0/ws/soeste-io-recorder/datafiles/ior-easy/ior_file_easy.00000008', '12582912', '0']\n",
      "func: read ['/beegfs/.global0/ws/soeste-io-recorder/datafiles/ior-easy/ior_file_easy.00000008', '%p', '2097152']\n",
      "func: lseek ['/beegfs/.global0/ws/soeste-io-recorder/datafiles/ior-easy/ior_file_easy.00000008', '14680064', '0']\n",
      "func: read ['/beegfs/.global0/ws/soeste-io-recorder/datafiles/ior-easy/ior_file_easy.00000008', '%p', '2097152']\n",
      "func: lseek ['/beegfs/.global0/ws/soeste-io-recorder/datafiles/ior-easy/ior_file_easy.00000008', '16777216', '0']\n",
      "func: read ['/beegfs/.global0/ws/soeste-io-recorder/datafiles/ior-easy/ior_file_easy.00000008', '%p', '2097152']\n",
      "func: lseek ['/beegfs/.global0/ws/soeste-io-recorder/datafiles/ior-easy/ior_file_easy.00000008', '18874368', '0']\n",
      "func: read ['/beegfs/.global0/ws/soeste-io-recorder/datafiles/ior-easy/ior_file_easy.00000008', '%p', '2097152']\n",
      "func: lseek ['/beegfs/.global0/ws/soeste-io-recorder/datafiles/ior-easy/ior_file_easy.00000008', '20971520', '0']\n",
      "func: read ['/beegfs/.global0/ws/soeste-io-recorder/datafiles/ior-easy/ior_file_easy.00000008', '%p', '2097152']\n",
      "func: lseek ['/beegfs/.global0/ws/soeste-io-recorder/datafiles/ior-easy/ior_file_easy.00000008', '23068672', '0']\n",
      "func: read ['/beegfs/.global0/ws/soeste-io-recorder/datafiles/ior-easy/ior_file_easy.00000008', '%p', '2097152']\n",
      "func: lseek ['/beegfs/.global0/ws/soeste-io-recorder/datafiles/ior-easy/ior_file_easy.00000008', '25165824', '0']\n",
      "func: read ['/beegfs/.global0/ws/soeste-io-recorder/datafiles/ior-easy/ior_file_easy.00000008', '%p', '2097152']\n",
      "func: lseek ['/beegfs/.global0/ws/soeste-io-recorder/datafiles/ior-easy/ior_file_easy.00000008', '27262976', '0']\n",
      "func: read ['/beegfs/.global0/ws/soeste-io-recorder/datafiles/ior-easy/ior_file_easy.00000008', '%p', '2097152']\n",
      "func: lseek ['/beegfs/.global0/ws/soeste-io-recorder/datafiles/ior-easy/ior_file_easy.00000008', '29360128', '0']\n",
      "func: read ['/beegfs/.global0/ws/soeste-io-recorder/datafiles/ior-easy/ior_file_easy.00000008', '%p', '2097152']\n",
      "func: lseek ['/beegfs/.global0/ws/soeste-io-recorder/datafiles/ior-easy/ior_file_easy.00000008', '31457280', '0']\n",
      "func: read ['/beegfs/.global0/ws/soeste-io-recorder/datafiles/ior-easy/ior_file_easy.00000008', '%p', '2097152']\n",
      "func: lseek ['/beegfs/.global0/ws/soeste-io-recorder/datafiles/ior-easy/ior_file_easy.00000008', '33554432', '0']\n",
      "func: read ['/beegfs/.global0/ws/soeste-io-recorder/datafiles/ior-easy/ior_file_easy.00000008', '%p', '2097152']\n",
      "func: lseek ['/beegfs/.global0/ws/soeste-io-recorder/datafiles/ior-easy/ior_file_easy.00000008', '35651584', '0']\n",
      "func: read ['/beegfs/.global0/ws/soeste-io-recorder/datafiles/ior-easy/ior_file_easy.00000008', '%p', '2097152']\n",
      "func: lseek ['/beegfs/.global0/ws/soeste-io-recorder/datafiles/ior-easy/ior_file_easy.00000008', '37748736', '0']\n",
      "func: read ['/beegfs/.global0/ws/soeste-io-recorder/datafiles/ior-easy/ior_file_easy.00000008', '%p', '2097152']\n",
      "func: lseek ['/beegfs/.global0/ws/soeste-io-recorder/datafiles/ior-easy/ior_file_easy.00000008', '39845888', '0']\n",
      "func: read ['/beegfs/.global0/ws/soeste-io-recorder/datafiles/ior-easy/ior_file_easy.00000008', '%p', '2097152']\n",
      "func: lseek ['/beegfs/.global0/ws/soeste-io-recorder/datafiles/ior-easy/ior_file_easy.00000008', '41943040', '0']\n",
      "func: read ['/beegfs/.global0/ws/soeste-io-recorder/datafiles/ior-easy/ior_file_easy.00000008', '%p', '2097152']\n",
      "func: lseek ['/beegfs/.global0/ws/soeste-io-recorder/datafiles/ior-easy/ior_file_easy.00000008', '44040192', '0']\n",
      "func: read ['/beegfs/.global0/ws/soeste-io-recorder/datafiles/ior-easy/ior_file_easy.00000008', '%p', '2097152']\n",
      "func: lseek ['/beegfs/.global0/ws/soeste-io-recorder/datafiles/ior-easy/ior_file_easy.00000008', '46137344', '0']\n",
      "func: read ['/beegfs/.global0/ws/soeste-io-recorder/datafiles/ior-easy/ior_file_easy.00000008', '%p', '2097152']\n",
      "func: lseek ['/beegfs/.global0/ws/soeste-io-recorder/datafiles/ior-easy/ior_file_easy.00000008', '48234496', '0']\n",
      "func: read ['/beegfs/.global0/ws/soeste-io-recorder/datafiles/ior-easy/ior_file_easy.00000008', '%p', '2097152']\n",
      "func: lseek ['/beegfs/.global0/ws/soeste-io-recorder/datafiles/ior-easy/ior_file_easy.00000008', '50331648', '0']\n",
      "func: read ['/beegfs/.global0/ws/soeste-io-recorder/datafiles/ior-easy/ior_file_easy.00000008', '%p', '2097152']\n",
      "func: lseek ['/beegfs/.global0/ws/soeste-io-recorder/datafiles/ior-easy/ior_file_easy.00000008', '52428800', '0']\n",
      "func: read ['/beegfs/.global0/ws/soeste-io-recorder/datafiles/ior-easy/ior_file_easy.00000008', '%p', '2097152']\n",
      "func: lseek ['/beegfs/.global0/ws/soeste-io-recorder/datafiles/ior-easy/ior_file_easy.00000008', '54525952', '0']\n",
      "func: read ['/beegfs/.global0/ws/soeste-io-recorder/datafiles/ior-easy/ior_file_easy.00000008', '%p', '2097152']\n",
      "func: lseek ['/beegfs/.global0/ws/soeste-io-recorder/datafiles/ior-easy/ior_file_easy.00000008', '56623104', '0']\n",
      "func: read ['/beegfs/.global0/ws/soeste-io-recorder/datafiles/ior-easy/ior_file_easy.00000008', '%p', '2097152']\n",
      "func: lseek ['/beegfs/.global0/ws/soeste-io-recorder/datafiles/ior-easy/ior_file_easy.00000008', '58720256', '0']\n",
      "func: read ['/beegfs/.global0/ws/soeste-io-recorder/datafiles/ior-easy/ior_file_easy.00000008', '%p', '2097152']\n",
      "func: lseek ['/beegfs/.global0/ws/soeste-io-recorder/datafiles/ior-easy/ior_file_easy.00000008', '60817408', '0']\n",
      "func: read ['/beegfs/.global0/ws/soeste-io-recorder/datafiles/ior-easy/ior_file_easy.00000008', '%p', '2097152']\n",
      "func: lseek ['/beegfs/.global0/ws/soeste-io-recorder/datafiles/ior-easy/ior_file_easy.00000008', '62914560', '0']\n",
      "func: read ['/beegfs/.global0/ws/soeste-io-recorder/datafiles/ior-easy/ior_file_easy.00000008', '%p', '2097152']\n"
     ]
    }
   ],
   "source": [
    "for i in range(100):\n",
    "    rec = reader.records[0][i]\n",
    "    func = reader.funcs[rec.func_id]\n",
    "    s = f\"func: {func} \"\n",
    "    s += f\"{rec.args_to_strs()}\"\n",
    "    #for arg_i in range(rec.arg_count):\n",
    "     #   s += f\"{rec.args_to_strs()}\"\n",
    "    print(s)\n",
    "    "
   ]
  }
 ],
 "metadata": {
  "kernelspec": {
   "display_name": "Python 3 (ipykernel)",
   "language": "python",
   "name": "python3"
  },
  "language_info": {
   "codemirror_mode": {
    "name": "ipython",
    "version": 3
   },
   "file_extension": ".py",
   "mimetype": "text/x-python",
   "name": "python",
   "nbconvert_exporter": "python",
   "pygments_lexer": "ipython3",
   "version": "3.9.9"
  }
 },
 "nbformat": 4,
 "nbformat_minor": 5
}
